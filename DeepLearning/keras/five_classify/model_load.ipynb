{
 "cells": [
  {
   "cell_type": "code",
   "execution_count": 5,
   "metadata": {},
   "outputs": [],
   "source": [
    "from keras.models import load_model\n",
    "from keras.preprocessing.image import ImageDataGenerator\n",
    "\n",
    "model = load_model('best_weights.h5')\n",
    "test_datagn = ImageDataGenerator(rescale=1./255)\n",
    "test_generator = test_datagn.flow_from_directory(\n",
    "                 './re/validation1',\n",
    "                 target_size=(150, 150),\n",
    "                 batch_size=32,\n",
    "                 class_mode='categorical')\n",
    "\n",
    "classer = model.evaluate_generator(test_generator)\n",
    "print(classer)"
   ]
  },
  {
   "cell_type": "code",
   "execution_count": null,
   "metadata": {},
   "outputs": [],
   "source": []
  }
 ],
 "metadata": {
  "kernelspec": {
   "display_name": "Python 3",
   "language": "python",
   "name": "python3"
  },
  "language_info": {
   "codemirror_mode": {
    "name": "ipython",
    "version": 3
   },
   "file_extension": ".py",
   "mimetype": "text/x-python",
   "name": "python",
   "nbconvert_exporter": "python",
   "pygments_lexer": "ipython3",
   "version": "3.5.2"
  }
 },
 "nbformat": 4,
 "nbformat_minor": 2
}
